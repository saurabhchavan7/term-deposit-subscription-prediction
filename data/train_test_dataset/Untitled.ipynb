{
 "cells": [
  {
   "cell_type": "code",
   "execution_count": 3,
   "id": "db0ec78b-3a93-4983-b78d-0a34607ed810",
   "metadata": {},
   "outputs": [],
   "source": [
    "import pandas as pd\n"
   ]
  },
  {
   "cell_type": "code",
   "execution_count": 2,
   "id": "1f6daf6a-8596-4647-98dc-f0989deeaf29",
   "metadata": {},
   "outputs": [
    {
     "name": "stdout",
     "output_type": "stream",
     "text": [
      "Collecting EDAExcelReport\n",
      "  Downloading EDAExcelReport-0.1.3-py3-none-any.whl (16 kB)\n",
      "Requirement already satisfied: numpy in d:\\saurabh\\anaconda\\anaconda\\lib\\site-packages (from EDAExcelReport) (1.23.5)\n",
      "Requirement already satisfied: scikit-learn in d:\\saurabh\\anaconda\\anaconda\\lib\\site-packages (from EDAExcelReport) (1.5.0)\n",
      "Collecting datetime\n",
      "  Downloading DateTime-5.5-py3-none-any.whl (52 kB)\n",
      "     -------------------------------------- 52.6/52.6 kB 673.2 kB/s eta 0:00:00\n",
      "Requirement already satisfied: pandas in d:\\saurabh\\anaconda\\anaconda\\lib\\site-packages (from EDAExcelReport) (1.5.3)\n",
      "Requirement already satisfied: openpyxl in d:\\saurabh\\anaconda\\anaconda\\lib\\site-packages (from EDAExcelReport) (3.0.10)\n",
      "Requirement already satisfied: pytz in d:\\saurabh\\anaconda\\anaconda\\lib\\site-packages (from datetime->EDAExcelReport) (2022.7)\n",
      "Requirement already satisfied: zope.interface in d:\\saurabh\\anaconda\\anaconda\\lib\\site-packages (from datetime->EDAExcelReport) (5.4.0)\n",
      "Requirement already satisfied: et_xmlfile in d:\\saurabh\\anaconda\\anaconda\\lib\\site-packages (from openpyxl->EDAExcelReport) (1.1.0)\n",
      "Requirement already satisfied: python-dateutil>=2.8.1 in d:\\saurabh\\anaconda\\anaconda\\lib\\site-packages (from pandas->EDAExcelReport) (2.8.2)\n",
      "Requirement already satisfied: scipy>=1.6.0 in d:\\saurabh\\anaconda\\anaconda\\lib\\site-packages (from scikit-learn->EDAExcelReport) (1.10.0)\n",
      "Requirement already satisfied: threadpoolctl>=3.1.0 in d:\\saurabh\\anaconda\\anaconda\\lib\\site-packages (from scikit-learn->EDAExcelReport) (3.5.0)\n",
      "Requirement already satisfied: joblib>=1.2.0 in d:\\saurabh\\anaconda\\anaconda\\lib\\site-packages (from scikit-learn->EDAExcelReport) (1.4.2)\n",
      "Requirement already satisfied: six>=1.5 in d:\\saurabh\\anaconda\\anaconda\\lib\\site-packages (from python-dateutil>=2.8.1->pandas->EDAExcelReport) (1.16.0)\n",
      "Requirement already satisfied: setuptools in d:\\saurabh\\anaconda\\anaconda\\lib\\site-packages (from zope.interface->datetime->EDAExcelReport) (65.6.3)\n",
      "Installing collected packages: datetime, EDAExcelReport\n",
      "Successfully installed EDAExcelReport-0.1.3 datetime-5.5\n"
     ]
    }
   ],
   "source": [
    "!pip install EDAExcelReport"
   ]
  },
  {
   "cell_type": "code",
   "execution_count": 42,
   "id": "d9260a06-dfc7-4ca9-b051-f581e9739c6f",
   "metadata": {},
   "outputs": [],
   "source": [
    "from EDAR.excel_report import EDAExcelReport"
   ]
  },
  {
   "cell_type": "code",
   "execution_count": 43,
   "id": "3b9df96e-4d3c-4579-97bd-0561ebf53aae",
   "metadata": {},
   "outputs": [],
   "source": [
    "trial = pd.read_csv('processed-test-final.csv')"
   ]
  },
  {
   "cell_type": "code",
   "execution_count": 44,
   "id": "6176c387-e2ce-4333-bcff-4bf336e17846",
   "metadata": {},
   "outputs": [
    {
     "data": {
      "text/html": [
       "<div>\n",
       "<style scoped>\n",
       "    .dataframe tbody tr th:only-of-type {\n",
       "        vertical-align: middle;\n",
       "    }\n",
       "\n",
       "    .dataframe tbody tr th {\n",
       "        vertical-align: top;\n",
       "    }\n",
       "\n",
       "    .dataframe thead th {\n",
       "        text-align: right;\n",
       "    }\n",
       "</style>\n",
       "<table border=\"1\" class=\"dataframe\">\n",
       "  <thead>\n",
       "    <tr style=\"text-align: right;\">\n",
       "      <th></th>\n",
       "      <th>campaign</th>\n",
       "      <th>emp.var.rate</th>\n",
       "      <th>cons.price.idx</th>\n",
       "      <th>cons.conf.idx</th>\n",
       "      <th>euribor3m</th>\n",
       "      <th>nr.employed</th>\n",
       "      <th>y</th>\n",
       "      <th>contact_telephone</th>\n",
       "      <th>poutcome_nonexistent</th>\n",
       "      <th>poutcome_success</th>\n",
       "      <th>month_cos</th>\n",
       "      <th>month_sin</th>\n",
       "      <th>day_cos</th>\n",
       "      <th>day_sin</th>\n",
       "      <th>customer</th>\n",
       "    </tr>\n",
       "  </thead>\n",
       "  <tbody>\n",
       "    <tr>\n",
       "      <th>0</th>\n",
       "      <td>2.744164</td>\n",
       "      <td>0.846326</td>\n",
       "      <td>1.604731</td>\n",
       "      <td>-0.277477</td>\n",
       "      <td>0.718325</td>\n",
       "      <td>0.867536</td>\n",
       "      <td>-1</td>\n",
       "      <td>1</td>\n",
       "      <td>1</td>\n",
       "      <td>0</td>\n",
       "      <td>-0.866025</td>\n",
       "      <td>0.500000</td>\n",
       "      <td>-0.222521</td>\n",
       "      <td>0.974928</td>\n",
       "      <td>3</td>\n",
       "    </tr>\n",
       "    <tr>\n",
       "      <th>1</th>\n",
       "      <td>-0.194960</td>\n",
       "      <td>-0.773161</td>\n",
       "      <td>1.116642</td>\n",
       "      <td>0.748710</td>\n",
       "      <td>-1.586426</td>\n",
       "      <td>-2.191931</td>\n",
       "      <td>1</td>\n",
       "      <td>0</td>\n",
       "      <td>0</td>\n",
       "      <td>1</td>\n",
       "      <td>-0.500000</td>\n",
       "      <td>-0.866025</td>\n",
       "      <td>0.623490</td>\n",
       "      <td>0.781831</td>\n",
       "      <td>0</td>\n",
       "    </tr>\n",
       "    <tr>\n",
       "      <th>2</th>\n",
       "      <td>0.392865</td>\n",
       "      <td>-1.226618</td>\n",
       "      <td>-1.279765</td>\n",
       "      <td>-1.327530</td>\n",
       "      <td>-1.375852</td>\n",
       "      <td>-1.006497</td>\n",
       "      <td>-1</td>\n",
       "      <td>0</td>\n",
       "      <td>0</td>\n",
       "      <td>0</td>\n",
       "      <td>-0.500000</td>\n",
       "      <td>0.866025</td>\n",
       "      <td>1.000000</td>\n",
       "      <td>0.000000</td>\n",
       "      <td>1</td>\n",
       "    </tr>\n",
       "    <tr>\n",
       "      <th>3</th>\n",
       "      <td>-0.194960</td>\n",
       "      <td>-1.226618</td>\n",
       "      <td>-1.279765</td>\n",
       "      <td>-1.327530</td>\n",
       "      <td>-1.363125</td>\n",
       "      <td>-1.006497</td>\n",
       "      <td>-1</td>\n",
       "      <td>0</td>\n",
       "      <td>1</td>\n",
       "      <td>0</td>\n",
       "      <td>-0.500000</td>\n",
       "      <td>0.866025</td>\n",
       "      <td>0.623490</td>\n",
       "      <td>0.781831</td>\n",
       "      <td>0</td>\n",
       "    </tr>\n",
       "    <tr>\n",
       "      <th>4</th>\n",
       "      <td>-0.194960</td>\n",
       "      <td>0.846326</td>\n",
       "      <td>-0.268723</td>\n",
       "      <td>1.082817</td>\n",
       "      <td>0.776175</td>\n",
       "      <td>0.867536</td>\n",
       "      <td>-1</td>\n",
       "      <td>0</td>\n",
       "      <td>1</td>\n",
       "      <td>0</td>\n",
       "      <td>-0.866025</td>\n",
       "      <td>-0.500000</td>\n",
       "      <td>-0.222521</td>\n",
       "      <td>0.974928</td>\n",
       "      <td>3</td>\n",
       "    </tr>\n",
       "  </tbody>\n",
       "</table>\n",
       "</div>"
      ],
      "text/plain": [
       "   campaign  emp.var.rate  cons.price.idx  cons.conf.idx  euribor3m  \\\n",
       "0  2.744164      0.846326        1.604731      -0.277477   0.718325   \n",
       "1 -0.194960     -0.773161        1.116642       0.748710  -1.586426   \n",
       "2  0.392865     -1.226618       -1.279765      -1.327530  -1.375852   \n",
       "3 -0.194960     -1.226618       -1.279765      -1.327530  -1.363125   \n",
       "4 -0.194960      0.846326       -0.268723       1.082817   0.776175   \n",
       "\n",
       "   nr.employed  y  contact_telephone  poutcome_nonexistent  poutcome_success  \\\n",
       "0     0.867536 -1                  1                     1                 0   \n",
       "1    -2.191931  1                  0                     0                 1   \n",
       "2    -1.006497 -1                  0                     0                 0   \n",
       "3    -1.006497 -1                  0                     1                 0   \n",
       "4     0.867536 -1                  0                     1                 0   \n",
       "\n",
       "   month_cos  month_sin   day_cos   day_sin  customer  \n",
       "0  -0.866025   0.500000 -0.222521  0.974928         3  \n",
       "1  -0.500000  -0.866025  0.623490  0.781831         0  \n",
       "2  -0.500000   0.866025  1.000000  0.000000         1  \n",
       "3  -0.500000   0.866025  0.623490  0.781831         0  \n",
       "4  -0.866025  -0.500000 -0.222521  0.974928         3  "
      ]
     },
     "execution_count": 44,
     "metadata": {},
     "output_type": "execute_result"
    }
   ],
   "source": [
    "trial.head()"
   ]
  },
  {
   "cell_type": "code",
   "execution_count": 45,
   "id": "b56d9e0f-e131-47fb-aecd-b728304c2932",
   "metadata": {},
   "outputs": [],
   "source": [
    "bank_df = pd.read_csv(r\"D:\\SAURABH\\spring 2024\\ML_Projects\\Forage_Project\\pwc\\data\\archive\\bank-additional-full.csv\",delimiter=';')"
   ]
  },
  {
   "cell_type": "code",
   "execution_count": 46,
   "id": "42db8428-8693-4944-be52-6aab9ef20ad2",
   "metadata": {},
   "outputs": [
    {
     "data": {
      "text/html": [
       "<div>\n",
       "<style scoped>\n",
       "    .dataframe tbody tr th:only-of-type {\n",
       "        vertical-align: middle;\n",
       "    }\n",
       "\n",
       "    .dataframe tbody tr th {\n",
       "        vertical-align: top;\n",
       "    }\n",
       "\n",
       "    .dataframe thead th {\n",
       "        text-align: right;\n",
       "    }\n",
       "</style>\n",
       "<table border=\"1\" class=\"dataframe\">\n",
       "  <thead>\n",
       "    <tr style=\"text-align: right;\">\n",
       "      <th></th>\n",
       "      <th>age</th>\n",
       "      <th>job</th>\n",
       "      <th>marital</th>\n",
       "      <th>education</th>\n",
       "      <th>default</th>\n",
       "      <th>housing</th>\n",
       "      <th>loan</th>\n",
       "      <th>contact</th>\n",
       "      <th>month</th>\n",
       "      <th>day_of_week</th>\n",
       "      <th>...</th>\n",
       "      <th>campaign</th>\n",
       "      <th>pdays</th>\n",
       "      <th>previous</th>\n",
       "      <th>poutcome</th>\n",
       "      <th>emp.var.rate</th>\n",
       "      <th>cons.price.idx</th>\n",
       "      <th>cons.conf.idx</th>\n",
       "      <th>euribor3m</th>\n",
       "      <th>nr.employed</th>\n",
       "      <th>y</th>\n",
       "    </tr>\n",
       "  </thead>\n",
       "  <tbody>\n",
       "    <tr>\n",
       "      <th>0</th>\n",
       "      <td>56</td>\n",
       "      <td>housemaid</td>\n",
       "      <td>married</td>\n",
       "      <td>basic.4y</td>\n",
       "      <td>no</td>\n",
       "      <td>no</td>\n",
       "      <td>no</td>\n",
       "      <td>telephone</td>\n",
       "      <td>may</td>\n",
       "      <td>mon</td>\n",
       "      <td>...</td>\n",
       "      <td>1</td>\n",
       "      <td>999</td>\n",
       "      <td>0</td>\n",
       "      <td>nonexistent</td>\n",
       "      <td>1.1</td>\n",
       "      <td>93.994</td>\n",
       "      <td>-36.4</td>\n",
       "      <td>4.857</td>\n",
       "      <td>5191.0</td>\n",
       "      <td>no</td>\n",
       "    </tr>\n",
       "    <tr>\n",
       "      <th>1</th>\n",
       "      <td>57</td>\n",
       "      <td>services</td>\n",
       "      <td>married</td>\n",
       "      <td>high.school</td>\n",
       "      <td>unknown</td>\n",
       "      <td>no</td>\n",
       "      <td>no</td>\n",
       "      <td>telephone</td>\n",
       "      <td>may</td>\n",
       "      <td>mon</td>\n",
       "      <td>...</td>\n",
       "      <td>1</td>\n",
       "      <td>999</td>\n",
       "      <td>0</td>\n",
       "      <td>nonexistent</td>\n",
       "      <td>1.1</td>\n",
       "      <td>93.994</td>\n",
       "      <td>-36.4</td>\n",
       "      <td>4.857</td>\n",
       "      <td>5191.0</td>\n",
       "      <td>no</td>\n",
       "    </tr>\n",
       "    <tr>\n",
       "      <th>2</th>\n",
       "      <td>37</td>\n",
       "      <td>services</td>\n",
       "      <td>married</td>\n",
       "      <td>high.school</td>\n",
       "      <td>no</td>\n",
       "      <td>yes</td>\n",
       "      <td>no</td>\n",
       "      <td>telephone</td>\n",
       "      <td>may</td>\n",
       "      <td>mon</td>\n",
       "      <td>...</td>\n",
       "      <td>1</td>\n",
       "      <td>999</td>\n",
       "      <td>0</td>\n",
       "      <td>nonexistent</td>\n",
       "      <td>1.1</td>\n",
       "      <td>93.994</td>\n",
       "      <td>-36.4</td>\n",
       "      <td>4.857</td>\n",
       "      <td>5191.0</td>\n",
       "      <td>no</td>\n",
       "    </tr>\n",
       "    <tr>\n",
       "      <th>3</th>\n",
       "      <td>40</td>\n",
       "      <td>admin.</td>\n",
       "      <td>married</td>\n",
       "      <td>basic.6y</td>\n",
       "      <td>no</td>\n",
       "      <td>no</td>\n",
       "      <td>no</td>\n",
       "      <td>telephone</td>\n",
       "      <td>may</td>\n",
       "      <td>mon</td>\n",
       "      <td>...</td>\n",
       "      <td>1</td>\n",
       "      <td>999</td>\n",
       "      <td>0</td>\n",
       "      <td>nonexistent</td>\n",
       "      <td>1.1</td>\n",
       "      <td>93.994</td>\n",
       "      <td>-36.4</td>\n",
       "      <td>4.857</td>\n",
       "      <td>5191.0</td>\n",
       "      <td>no</td>\n",
       "    </tr>\n",
       "    <tr>\n",
       "      <th>4</th>\n",
       "      <td>56</td>\n",
       "      <td>services</td>\n",
       "      <td>married</td>\n",
       "      <td>high.school</td>\n",
       "      <td>no</td>\n",
       "      <td>no</td>\n",
       "      <td>yes</td>\n",
       "      <td>telephone</td>\n",
       "      <td>may</td>\n",
       "      <td>mon</td>\n",
       "      <td>...</td>\n",
       "      <td>1</td>\n",
       "      <td>999</td>\n",
       "      <td>0</td>\n",
       "      <td>nonexistent</td>\n",
       "      <td>1.1</td>\n",
       "      <td>93.994</td>\n",
       "      <td>-36.4</td>\n",
       "      <td>4.857</td>\n",
       "      <td>5191.0</td>\n",
       "      <td>no</td>\n",
       "    </tr>\n",
       "  </tbody>\n",
       "</table>\n",
       "<p>5 rows × 21 columns</p>\n",
       "</div>"
      ],
      "text/plain": [
       "   age        job  marital    education  default housing loan    contact  \\\n",
       "0   56  housemaid  married     basic.4y       no      no   no  telephone   \n",
       "1   57   services  married  high.school  unknown      no   no  telephone   \n",
       "2   37   services  married  high.school       no     yes   no  telephone   \n",
       "3   40     admin.  married     basic.6y       no      no   no  telephone   \n",
       "4   56   services  married  high.school       no      no  yes  telephone   \n",
       "\n",
       "  month day_of_week  ...  campaign  pdays  previous     poutcome emp.var.rate  \\\n",
       "0   may         mon  ...         1    999         0  nonexistent          1.1   \n",
       "1   may         mon  ...         1    999         0  nonexistent          1.1   \n",
       "2   may         mon  ...         1    999         0  nonexistent          1.1   \n",
       "3   may         mon  ...         1    999         0  nonexistent          1.1   \n",
       "4   may         mon  ...         1    999         0  nonexistent          1.1   \n",
       "\n",
       "   cons.price.idx  cons.conf.idx  euribor3m  nr.employed   y  \n",
       "0          93.994          -36.4      4.857       5191.0  no  \n",
       "1          93.994          -36.4      4.857       5191.0  no  \n",
       "2          93.994          -36.4      4.857       5191.0  no  \n",
       "3          93.994          -36.4      4.857       5191.0  no  \n",
       "4          93.994          -36.4      4.857       5191.0  no  \n",
       "\n",
       "[5 rows x 21 columns]"
      ]
     },
     "execution_count": 46,
     "metadata": {},
     "output_type": "execute_result"
    }
   ],
   "source": [
    "bank_df.head()"
   ]
  },
  {
   "cell_type": "code",
   "execution_count": 47,
   "id": "b84f942d-d593-4180-8d8b-d4a658355eac",
   "metadata": {},
   "outputs": [
    {
     "data": {
      "text/plain": [
       "age               0\n",
       "job               0\n",
       "marital           0\n",
       "education         0\n",
       "default           0\n",
       "housing           0\n",
       "loan              0\n",
       "contact           0\n",
       "month             0\n",
       "day_of_week       0\n",
       "duration          0\n",
       "campaign          0\n",
       "pdays             0\n",
       "previous          0\n",
       "poutcome          0\n",
       "emp.var.rate      0\n",
       "cons.price.idx    0\n",
       "cons.conf.idx     0\n",
       "euribor3m         0\n",
       "nr.employed       0\n",
       "y                 0\n",
       "dtype: int64"
      ]
     },
     "execution_count": 47,
     "metadata": {},
     "output_type": "execute_result"
    }
   ],
   "source": [
    "bank_df.isna().sum()"
   ]
  },
  {
   "cell_type": "code",
   "execution_count": 48,
   "id": "629ca2f9-dd90-48b8-b27b-dde97a1b08ba",
   "metadata": {},
   "outputs": [
    {
     "data": {
      "text/plain": [
       "no     36548\n",
       "yes     4640\n",
       "Name: y, dtype: int64"
      ]
     },
     "execution_count": 48,
     "metadata": {},
     "output_type": "execute_result"
    }
   ],
   "source": [
    "bank_df['y'].value_counts()"
   ]
  },
  {
   "cell_type": "code",
   "execution_count": 49,
   "id": "05695857-73a6-48a6-91d7-1a53f275645c",
   "metadata": {},
   "outputs": [],
   "source": [
    "bank_df['target']=bank_df['y'].replace({'no': 0, 'yes': 1})"
   ]
  },
  {
   "cell_type": "code",
   "execution_count": 50,
   "id": "05a60920-4dfc-408d-a4d8-e9b905266479",
   "metadata": {},
   "outputs": [
    {
     "data": {
      "text/plain": [
       "Index(['age', 'job', 'marital', 'education', 'default', 'housing', 'loan',\n",
       "       'contact', 'month', 'day_of_week', 'duration', 'campaign', 'pdays',\n",
       "       'previous', 'poutcome', 'emp.var.rate', 'cons.price.idx',\n",
       "       'cons.conf.idx', 'euribor3m', 'nr.employed', 'y', 'target'],\n",
       "      dtype='object')"
      ]
     },
     "execution_count": 50,
     "metadata": {},
     "output_type": "execute_result"
    }
   ],
   "source": [
    "bank_df.columns"
   ]
  },
  {
   "cell_type": "code",
   "execution_count": 51,
   "id": "81846522-f06c-431e-af3a-d14506ba71a2",
   "metadata": {},
   "outputs": [],
   "source": [
    "ignore_col = ['contact','day_of_week','duration', 'campaign', 'pdays',\n",
    "       'previous', 'poutcome', 'emp.var.rate', 'cons.price.idx',\n",
    "       'cons.conf.idx', 'euribor3m', 'nr.employed', 'y']"
   ]
  },
  {
   "cell_type": "code",
   "execution_count": 52,
   "id": "e469f0d6-6acb-4da5-b4c7-36ed1f33f806",
   "metadata": {},
   "outputs": [
    {
     "name": "stdout",
     "output_type": "stream",
     "text": [
      "Your EDA report is ready at bank_df_eda_20240610_232201.xlsx\n"
     ]
    },
    {
     "data": {
      "text/plain": [
       "<EDAR.excel_report.EDAExcelReport at 0x1bddc5841c0>"
      ]
     },
     "execution_count": 52,
     "metadata": {},
     "output_type": "execute_result"
    }
   ],
   "source": [
    "EDAExcelReport(bank_df,'target','bank_df_eda.xlsx', ignore_cols=ignore_col)"
   ]
  },
  {
   "cell_type": "code",
   "execution_count": null,
   "id": "9e26e0e4-2d85-4085-9593-6c2e91f74f6f",
   "metadata": {},
   "outputs": [],
   "source": []
  }
 ],
 "metadata": {
  "kernelspec": {
   "display_name": "Python 3 (ipykernel)",
   "language": "python",
   "name": "python3"
  },
  "language_info": {
   "codemirror_mode": {
    "name": "ipython",
    "version": 3
   },
   "file_extension": ".py",
   "mimetype": "text/x-python",
   "name": "python",
   "nbconvert_exporter": "python",
   "pygments_lexer": "ipython3",
   "version": "3.10.9"
  }
 },
 "nbformat": 4,
 "nbformat_minor": 5
}
